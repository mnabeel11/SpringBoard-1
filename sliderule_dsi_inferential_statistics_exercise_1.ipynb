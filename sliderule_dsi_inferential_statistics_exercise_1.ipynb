{
 "cells": [
  {
   "cell_type": "markdown",
   "metadata": {},
   "source": [
    "# What is the True Normal Human Body Temperature? \n",
    "\n",
    "#### Background\n",
    "\n",
    "The mean normal body temperature was held to be 37$^{\\circ}$C or 98.6$^{\\circ}$F for more than 120 years since it was first conceptualized and reported by Carl Wunderlich in a famous 1868 book. But, is this value statistically correct?"
   ]
  },
  {
   "cell_type": "markdown",
   "metadata": {},
   "source": [
    "<h3>Exercises</h3>\n",
    "\n",
    "<p>In this exercise, you will analyze a dataset of human body temperatures and employ the concepts of hypothesis testing, confidence intervals, and statistical significance.</p>\n",
    "\n",
    "<p>Answer the following questions <b>in this notebook below and submit to your Github account</b>.</p> \n",
    "\n",
    "<ol>\n",
    "<li>  Is the distribution of body temperatures normal? \n",
    "    <ul>\n",
    "    <li> Although this is not a requirement for the Central Limit Theorem to hold (read the introduction on Wikipedia's page about the CLT carefully: https://en.wikipedia.org/wiki/Central_limit_theorem), it gives us some peace of mind that the population may also be normally distributed if we assume that this sample is representative of the population.\n",
    "    <li> Think about the way you're going to check for the normality of the distribution. Graphical methods are usually used first, but there are also other ways: https://en.wikipedia.org/wiki/Normality_test\n",
    "    </ul>\n",
    "<li>  Is the sample size large? Are the observations independent?\n",
    "    <ul>\n",
    "    <li> Remember that this is a condition for the Central Limit Theorem, and hence the statistical tests we are using, to apply.\n",
    "    </ul>\n",
    "<li>  Is the true population mean really 98.6 degrees F?\n",
    "    <ul>\n",
    "    <li> First, try a bootstrap hypothesis test.\n",
    "    <li> Now, let's try frequentist statistical testing. Would you use a one-sample or two-sample test? Why?\n",
    "    <li> In this situation, is it appropriate to use the $t$ or $z$ statistic? \n",
    "    <li> Now try using the other test. How is the result be different? Why?\n",
    "    </ul>\n",
    "<li>  Draw a small sample of size 10 from the data and repeat both frequentist tests. \n",
    "    <ul>\n",
    "    <li> Which one is the correct one to use? \n",
    "    <li> What do you notice? What does this tell you about the difference in application of the $t$ and $z$ statistic?\n",
    "    </ul>\n",
    "<li>  At what temperature should we consider someone's temperature to be \"abnormal\"?\n",
    "    <ul>\n",
    "    <li> As in the previous example, try calculating everything using the boostrap approach, as well as the frequentist approach.\n",
    "    <li> Start by computing the margin of error and confidence interval. When calculating the confidence interval, keep in mind that you should use the appropriate formula for one draw, and not N draws.\n",
    "    </ul>\n",
    "<li>  Is there a significant difference between males and females in normal temperature?\n",
    "    <ul>\n",
    "    <li> What testing approach did you use and why?\n",
    "    <li> Write a story with your conclusion in the context of the original problem.\n",
    "    </ul>\n",
    "</ol>\n",
    "\n",
    "You can include written notes in notebook cells using Markdown: \n",
    "   - In the control panel at the top, choose Cell > Cell Type > Markdown\n",
    "   - Markdown syntax: http://nestacms.com/docs/creating-content/markdown-cheat-sheet\n",
    "\n",
    "#### Resources\n",
    "\n",
    "+ Information and data sources: http://www.amstat.org/publications/jse/datasets/normtemp.txt, http://www.amstat.org/publications/jse/jse_data_archive.htm\n",
    "+ Markdown syntax: http://nestacms.com/docs/creating-content/markdown-cheat-sheet\n",
    "\n",
    "****"
   ]
  },
  {
   "cell_type": "code",
   "execution_count": 2,
   "metadata": {},
   "outputs": [],
   "source": [
    "import pandas as pd\n",
    "\n",
    "df = pd.read_csv('data/human_body_temperature.csv')"
   ]
  },
  {
   "cell_type": "code",
   "execution_count": 3,
   "metadata": {
    "scrolled": false
   },
   "outputs": [
    {
     "data": {
      "text/html": [
       "<div>\n",
       "<style scoped>\n",
       "    .dataframe tbody tr th:only-of-type {\n",
       "        vertical-align: middle;\n",
       "    }\n",
       "\n",
       "    .dataframe tbody tr th {\n",
       "        vertical-align: top;\n",
       "    }\n",
       "\n",
       "    .dataframe thead th {\n",
       "        text-align: right;\n",
       "    }\n",
       "</style>\n",
       "<table border=\"1\" class=\"dataframe\">\n",
       "  <thead>\n",
       "    <tr style=\"text-align: right;\">\n",
       "      <th></th>\n",
       "      <th>temperature</th>\n",
       "      <th>heart_rate</th>\n",
       "    </tr>\n",
       "  </thead>\n",
       "  <tbody>\n",
       "    <tr>\n",
       "      <th>count</th>\n",
       "      <td>130.000000</td>\n",
       "      <td>130.000000</td>\n",
       "    </tr>\n",
       "    <tr>\n",
       "      <th>mean</th>\n",
       "      <td>98.249231</td>\n",
       "      <td>73.761538</td>\n",
       "    </tr>\n",
       "    <tr>\n",
       "      <th>std</th>\n",
       "      <td>0.733183</td>\n",
       "      <td>7.062077</td>\n",
       "    </tr>\n",
       "    <tr>\n",
       "      <th>min</th>\n",
       "      <td>96.300000</td>\n",
       "      <td>57.000000</td>\n",
       "    </tr>\n",
       "    <tr>\n",
       "      <th>25%</th>\n",
       "      <td>97.800000</td>\n",
       "      <td>69.000000</td>\n",
       "    </tr>\n",
       "    <tr>\n",
       "      <th>50%</th>\n",
       "      <td>98.300000</td>\n",
       "      <td>74.000000</td>\n",
       "    </tr>\n",
       "    <tr>\n",
       "      <th>75%</th>\n",
       "      <td>98.700000</td>\n",
       "      <td>79.000000</td>\n",
       "    </tr>\n",
       "    <tr>\n",
       "      <th>max</th>\n",
       "      <td>100.800000</td>\n",
       "      <td>89.000000</td>\n",
       "    </tr>\n",
       "  </tbody>\n",
       "</table>\n",
       "</div>"
      ],
      "text/plain": [
       "       temperature  heart_rate\n",
       "count   130.000000  130.000000\n",
       "mean     98.249231   73.761538\n",
       "std       0.733183    7.062077\n",
       "min      96.300000   57.000000\n",
       "25%      97.800000   69.000000\n",
       "50%      98.300000   74.000000\n",
       "75%      98.700000   79.000000\n",
       "max     100.800000   89.000000"
      ]
     },
     "execution_count": 3,
     "metadata": {},
     "output_type": "execute_result"
    }
   ],
   "source": [
    "df.describe()"
   ]
  },
  {
   "cell_type": "code",
   "execution_count": 18,
   "metadata": {},
   "outputs": [
    {
     "data": {
      "image/png": "[encoded data removed]",
      "text/plain": [
       "<matplotlib.figure.Figure at 0x1dc56776e80>"
      ]
     },
     "metadata": {},
     "output_type": "display_data"
    },
    {
     "data": {
      "image/png": "[encoded data removed]",
      "text/plain": [
       "<matplotlib.figure.Figure at 0x1dc56964e10>"
      ]
     },
     "metadata": {},
     "output_type": "display_data"
    }
   ],
   "source": [
    "import matplotlib.pyplot as plt\n",
    "\n",
    "df['temperature'].hist()\n",
    "plt.xlabel('Temperature')\n",
    "plt.ylabel('Frequency')\n",
    "plt.show()\n",
    "df['heart_rate'].hist()\n",
    "plt.xlabel('Heart Rate')\n",
    "plt.ylabel('Frequency')\n",
    "plt.show()"
   ]
  },
  {
   "cell_type": "code",
   "execution_count": 5,
   "metadata": {},
   "outputs": [
    {
     "data": {
      "text/plain": [
       "gender\n",
       "F    65\n",
       "M    65\n",
       "dtype: int64"
      ]
     },
     "execution_count": 5,
     "metadata": {},
     "output_type": "execute_result"
    }
   ],
   "source": [
    "df.groupby('gender').size()"
   ]
  },
  {
   "cell_type": "code",
   "execution_count": 6,
   "metadata": {},
   "outputs": [
    {
     "data": {
      "text/plain": [
       "NormaltestResult(statistic=2.703801433319203, pvalue=0.2587479863488254)"
      ]
     },
     "execution_count": 6,
     "metadata": {},
     "output_type": "execute_result"
    }
   ],
   "source": [
    "import scipy.stats as stats\n",
    "stats.normaltest(df.temperature)"
   ]
  },
  {
   "cell_type": "code",
   "execution_count": 7,
   "metadata": {},
   "outputs": [
    {
     "data": {
      "image/png": "[encoded data removed]",
      "text/plain": [
       "<matplotlib.figure.Figure at 0x1dc530249e8>"
      ]
     },
     "metadata": {},
     "output_type": "display_data"
    }
   ],
   "source": [
    "import numpy as np\n",
    "\n",
    "def cdf(data):\n",
    "    n = len(data)\n",
    "    x = np.sort(data)\n",
    "    y = np.arange(1, n+1) / n\n",
    "    return x, y\n",
    "\n",
    "mean = np.mean(df.temperature)\n",
    "std  = np.std(df.temperature)\n",
    "normal = np.random.normal(mean, std, 10000)\n",
    "x, y = cdf(df.temperature)\n",
    "x_norm, y_norm = cdf(normal)\n",
    "plt.plot(x_norm, y_norm)\n",
    "plt.plot(x, y, marker='+', ls='none')\n",
    "plt.xlabel('Tempature')\n",
    "plt.ylabel('CDF')\n",
    "plt.show()"
   ]
  },
  {
   "cell_type": "markdown",
   "metadata": {},
   "source": [
    "You need at least 30 before you can reasonably expect an analysis based upon the normal distribution to be valid. Hence, the amount of 130 is reasonably large. Considering all the data given is of seperate people, then the sample data is Independant aswell."
   ]
  },
  {
   "cell_type": "code",
   "execution_count": 25,
   "metadata": {},
   "outputs": [
    {
     "name": "stdout",
     "output_type": "stream",
     "text": [
      "mean: 98.25\n"
     ]
    }
   ],
   "source": [
    "bs_replicates = np.empty(1000)\n",
    "\n",
    "size = len(bs_replicates)\n",
    "\n",
    "for i in range(size):\n",
    "    bs_sample = np.random.choice(df.temperature, len(df.temperature))\n",
    "    bs_replicates[i] = np.mean(bs_sample)\n",
    "    \n",
    "p = np.sum(bs_replicates >= 98.6) / size\n",
    "\n",
    "print('mean: {:0.5}'.format(np.mean(bs_replicates)))"
   ]
  },
  {
   "cell_type": "markdown",
   "metadata": {},
   "source": [
    "The null hypothesis should be rejected. The mean body temperature of the sample set is 98.25°."
   ]
  },
  {
   "cell_type": "markdown",
   "metadata": {},
   "source": [
    "The mean of a single sample to a population with an hypothesised mean, a one-sample t-test is appropriate."
   ]
  },
  {
   "cell_type": "code",
   "execution_count": 9,
   "metadata": {},
   "outputs": [
    {
     "data": {
      "text/plain": [
       "Ttest_1sampResult(statistic=-5.4548232923645195, pvalue=2.4106320415561276e-07)"
      ]
     },
     "execution_count": 9,
     "metadata": {},
     "output_type": "execute_result"
    }
   ],
   "source": [
    "stats.ttest_1samp(df.temperature, 98.6)"
   ]
  },
  {
   "cell_type": "code",
   "execution_count": 10,
   "metadata": {},
   "outputs": [
    {
     "name": "stdout",
     "output_type": "stream",
     "text": [
      "statistic: -0.4784196512470687\n",
      "pvalue: 0.6323515496610859\n"
     ]
    }
   ],
   "source": [
    "popmean=98.6\n",
    "samp_mean=df.temperature.mean()\n",
    "samp_std=df.temperature.std()\n",
    "n=len(df.temperature)\n",
    "statistic=(samp_mean-popmean)/(samp_std)\n",
    "print(\"statistic: \"+str(statistic))\n",
    "pvalue=stats.norm.sf(abs(statistic))*2\n",
    "print('pvalue: '+str(pvalue))"
   ]
  },
  {
   "cell_type": "markdown",
   "metadata": {},
   "source": [
    "We can't use Z-statistic for this as there is missing information. As the null hypothesis can't be rejected and the population is not equal to 98.6°."
   ]
  },
  {
   "cell_type": "code",
   "execution_count": 11,
   "metadata": {},
   "outputs": [
    {
     "name": "stdout",
     "output_type": "stream",
     "text": [
      "Ztest_1sampResult(statistic=-0.6451791670810867, pvalue=0.5188110850992379)\n",
      "Ttest_1sampResult(statistic=-1.93553750124326, pvalue=0.08491508125915091)\n"
     ]
    }
   ],
   "source": [
    "sample_temperature=np.random.choice(a=df.temperature, size=10)\n",
    "samp_mean10=sample_temperature.mean()\n",
    "samp_std10=sample_temperature.std()\n",
    "n10=len(sample_temperature)\n",
    "statistic10=(samp_mean10-popmean)/(samp_std10)\n",
    "pvalue10=stats.norm.sf(abs(statistic10))*2\n",
    "print(\"Ztest_1sampResult(statistic=\"+str(statistic10)+', pvalue='+str(pvalue10)+')')\n",
    "sample_ttest=stats.ttest_1samp(sample_temperature, 98.6)\n",
    "print(sample_ttest)"
   ]
  },
  {
   "cell_type": "markdown",
   "metadata": {},
   "source": [
    "Since both the z-test, and the t-test have a p-value greater than 0.05, the null hypothesis cannot be rejected on basis of these tests. As the sample size of 10 is very small, we can not get accurate results from the data."
   ]
  },
  {
   "cell_type": "code",
   "execution_count": 14,
   "metadata": {},
   "outputs": [
    {
     "name": "stdout",
     "output_type": "stream",
     "text": [
      "sample mean: 98.25\n",
      "sample standard deviation: 0.7304\n",
      "\n",
      "p-value: 0.0\n",
      "95% confidence interval: 96.818 - 99.681\n",
      "margin of error: +/-1.4315\n",
      "\n",
      "\n",
      "95% confidence interval: 96.818 - 99.681\n",
      "margin of error: +/-1.4315\n"
     ]
    }
   ],
   "source": [
    "#The sample mean and standard deviation with bootstrap and frequentist approaches\n",
    "x_bar = np.mean(df.temperature)\n",
    "s = np.std(df.temperature)\n",
    "print('sample mean: {:0.4}\\nsample standard deviation: {:0.4}\\n'.format(x_bar, s))\n",
    "\n",
    "bootstrap_replicates = np.empty(100000)\n",
    "size = len(bootstrap_replicates)\n",
    "for i in range(size):\n",
    "    bootstrap_sample = np.random.choice(df.temperature, size=len(df.temperature))\n",
    "    bootstrap_replicates[i] = np.mean(bootstrap_sample)\n",
    "p = np.sum(bootstrap_replicates >= 98.6) / len(bootstrap_replicates)\n",
    "print('p-value: {}'.format(p))\n",
    "x_bar = np.mean(bootstrap_replicates)\n",
    "\n",
    "ci = stats.norm.interval(0.95, loc=x_bar, scale=s)\n",
    "print('95% confidence interval: {:0.5} - {:0.5}'.format(ci[0], ci[1]))\n",
    "print('margin of error: +/-{:0.5}\\n\\n'.format((ci[1] - x_bar)))\n",
    "ci_low_f, ci_high_f = stats.norm.interval(0.95, loc=x_bar, scale=s)\n",
    "print('95% confidence interval: {:0.5} - {:0.5}'.format(ci_low_f, ci_high_f))\n",
    "print('margin of error: +/-{:0.5}'.format((ci_high_f - x_bar))) "
   ]
  },
  {
   "cell_type": "markdown",
   "metadata": {},
   "source": [
    "According to both the Bootstrap and Frequentist approaches, using the mean we calculated (98.25°), and at a 95% confidence interval, a temperature below 96.818° or above 99.681° would be considered abnormal."
   ]
  },
  {
   "cell_type": "code",
   "execution_count": 17,
   "metadata": {},
   "outputs": [
    {
     "name": "stdout",
     "output_type": "stream",
     "text": [
      "Male Temp. Mean:  98.1046153846154 Male Temp. St. Dev.:  0.6933598841828696 Male Temp. Median:  98.1 \n",
      "Female Temp. Mean:  98.39384615384613 Female Temp. St. Dev.:  0.7377464486428966 Female Temp. Median:  98.4\n"
     ]
    },
    {
     "data": {
      "image/png": "[encoded data removed]",
      "text/plain": [
       "<matplotlib.figure.Figure at 0x1dc53024c18>"
      ]
     },
     "metadata": {},
     "output_type": "display_data"
    }
   ],
   "source": [
    "df_male = df[df['gender']=='M']\n",
    "df_female = df[df['gender']=='F']\n",
    "\n",
    "temps = [96, 97, 98, 99, 100, 101]\n",
    "male_line = np.empty(6)\n",
    "female_line = np.empty(6)\n",
    "\n",
    "slope_male, intercept_male = np.polyfit(df_male['temperature'], df_male['heart_rate'], 1)\n",
    "slope_female, intercept_female = np.polyfit(df_female['temperature'], df_female['heart_rate'], 1)\n",
    "\n",
    "for i in range(6):\n",
    "    male_line[i] = (slope_male * temps[i]) + intercept_male\n",
    "    female_line[i] = (slope_female * temps[i]) + intercept_female\n",
    "\n",
    "plt.plot(df_male['temperature'], df_male['heart_rate'], color='blue', marker='.', linestyle='none')\n",
    "plt.plot(df_female['temperature'], df_female['heart_rate'], color='red', marker='.', linestyle='none')\n",
    "plt.plot(temps, male_line, color='blue', alpha=0.5)\n",
    "plt.plot(temps, female_line, color='red', alpha=0.5)\n",
    "plt.legend(('Male', 'Female'), loc='lower right')\n",
    "plt.xlabel('Temperature (F)')\n",
    "plt.ylabel('Heart Rate (bpm)')\n",
    "\n",
    "print(\"Male Temp. Mean: \", np.mean(df_male['temperature']), \"Male Temp. St. Dev.: \", np.std(df_male['temperature']), \n",
    "      \"Male Temp. Median: \", np.median(df_male['temperature']),\n",
    "      \"\\nFemale Temp. Mean: \", np.mean(df_female['temperature']), \"Female Temp. St. Dev.: \", np.std(df_female['temperature']),\n",
    "      \"Female Temp. Median: \", np.median(df_female['temperature']))"
   ]
  },
  {
   "cell_type": "markdown",
   "metadata": {},
   "source": [
    "After plotting the data and checking the mean, median, and st.dev. of both males and females, it seems females are just a tad bit higher on average, with a slightly larger range as well. Overall, I would say that the data suggests that females experience slightly higher body temperatures, and even faster heart rates."
   ]
  },
  {
   "cell_type": "code",
   "execution_count": null,
   "metadata": {},
   "outputs": [],
   "source": []
  }
 ],
 "metadata": {
  "kernelspec": {
   "display_name": "Python 3",
   "language": "python",
   "name": "python3"
  },
  "language_info": {
   "codemirror_mode": {
    "name": "ipython",
    "version": 3
   },
   "file_extension": ".py",
   "mimetype": "text/x-python",
   "name": "python",
   "nbconvert_exporter": "python",
   "pygments_lexer": "ipython3",
   "version": "3.6.4"
  }
 },
 "nbformat": 4,
 "nbformat_minor": 1
}
